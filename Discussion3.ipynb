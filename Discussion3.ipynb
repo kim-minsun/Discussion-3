{
  "nbformat": 4,
  "nbformat_minor": 0,
  "metadata": {
    "colab": {
      "name": "Discussion3.ipynb",
      "provenance": [],
      "authorship_tag": "ABX9TyOsbTNhYHx1wCHOQnwHkge5",
      "include_colab_link": true
    },
    "kernelspec": {
      "name": "python3",
      "display_name": "Python 3"
    }
  },
  "cells": [
    {
      "cell_type": "markdown",
      "metadata": {
        "id": "view-in-github",
        "colab_type": "text"
      },
      "source": [
        "<a href=\"https://colab.research.google.com/github/kim-minsun/Discussion-3/blob/main/Discussion3.ipynb\" target=\"_parent\"><img src=\"https://colab.research.google.com/assets/colab-badge.svg\" alt=\"Open In Colab\"/></a>"
      ]
    },
    {
      "cell_type": "markdown",
      "metadata": {
        "id": "soUFmKB2nCoI"
      },
      "source": [
        "# Discussion 3- Finding Roots\n",
        "\n",
        "\n",
        "$Min Sun Kim$\n",
        "\n",
        "$CPSMA - 441301$\n",
        "\n",
        "$Dr. Nicolas Jacob$\n",
        "\n"
      ]
    },
    {
      "cell_type": "code",
      "metadata": {
        "colab": {
          "base_uri": "https://localhost:8080/"
        },
        "id": "0qzlfhvTnhtH",
        "outputId": "67c3f485-35df-43e3-9423-022285e3c05d"
      },
      "source": [
        "import numpy as np\n",
        "from scipy.misc import derivative         ## to calculate the derivative\n",
        "\n",
        "x_n = 1                                   ## choosing the starting guess value for x\n",
        "x = np.linspace(-1, 4, 200)\n",
        "\n",
        "def root(x, a=3, b=-12, c=5, d=9):        ## defining function for the cubic equation\n",
        "  return a*x**3 + b*x**2 + c*x + d\n",
        "\n",
        "def x_next(root, x, x_n):\n",
        "  slope = derivative(root, x_n, dx=0.2)   ## calculating the slope with the derivative\n",
        "  return x_n - root(x_n) / slope\n",
        "\n",
        "for n in range(15):\n",
        "  print('x_{} = {:.8f}'.format(n+1, x_n))   \n",
        "  x_n = x_next(root, x, x_n)\n",
        "\n"
      ],
      "execution_count": 101,
      "outputs": [
        {
          "output_type": "stream",
          "text": [
            "x_1 = 1.00000000\n",
            "x_2 = 1.50607287\n",
            "x_3 = 1.46458680\n",
            "x_4 = 1.46528049\n",
            "x_5 = 1.46527278\n",
            "x_6 = 1.46527287\n",
            "x_7 = 1.46527287\n",
            "x_8 = 1.46527287\n",
            "x_9 = 1.46527287\n",
            "x_10 = 1.46527287\n",
            "x_11 = 1.46527287\n",
            "x_12 = 1.46527287\n",
            "x_13 = 1.46527287\n",
            "x_14 = 1.46527287\n",
            "x_15 = 1.46527287\n"
          ],
          "name": "stdout"
        }
      ]
    },
    {
      "cell_type": "code",
      "metadata": {
        "colab": {
          "base_uri": "https://localhost:8080/",
          "height": 296
        },
        "id": "VpbpGe50zXTT",
        "outputId": "8438eeb0-6ba0-46fa-dc33-b79a9cab21fb"
      },
      "source": [
        "import numpy as np\n",
        "from scipy import optimize\n",
        "import matplotlib.pyplot as plt\n",
        "\n",
        "def root(x, a=3, b=-12, c=5, d=9):          ## defining function for the cubic equation\n",
        "    return a*x**3 + b*x**2 + c*x + d\n",
        "\n",
        "x = np.linspace(-1, 4, 200)\n",
        "sol = optimize.root(root, [-3, 1, 5])       ## optimizing the root value by supplying the guess value\n",
        "\n",
        "plt.xlabel('x-axis')                        ## Labelling the axis on the graph\n",
        "plt.ylabel('y-axis')\n",
        "plt.plot(x, root(x), lw=3)                  ## plotting the cubic function on graph\n",
        "plt.plot(sol.x, root(sol.x), 'd', ms=10)    ## plotting the solution points for the root\n",
        "plt.axhline(0, color='red', lw=0.5)         ## adding the horizontal line on the origin\n",
        "plt.show()\n",
        "\n",
        "\n",
        "sol.x                                       ## it gives the cube roots of the cubic equations used above\n"
      ],
      "execution_count": 100,
      "outputs": [
        {
          "output_type": "display_data",
          "data": {
            "image/png": "[encoded data removed]",
            "text/plain": [
              "<Figure size 432x288 with 1 Axes>"
            ]
          },
          "metadata": {
            "tags": [],
            "needs_background": "light"
          }
        },
        {
          "output_type": "execute_result",
          "data": {
            "text/plain": [
              "array([-0.64407846,  1.46527287,  3.1788056 ])"
            ]
          },
          "metadata": {
            "tags": []
          },
          "execution_count": 100
        }
      ]
    },
    {
      "cell_type": "markdown",
      "metadata": {
        "id": "1oLhgr7AFXy1"
      },
      "source": [
        "#Simple Explanation:\n",
        "\n",
        "I used Newton-Raphson Method to calculate the roots of the cubic equation by specifying the starting guess value to narrow down the roots value search. On comparing the results, I came to find that one of the root for the cubic equation $3x^3-12x^2+5x+9=0$ is $1.46527287$ while others are $-0,64407846$ and $3.1788056$. "
      ]
    }
  ]
}